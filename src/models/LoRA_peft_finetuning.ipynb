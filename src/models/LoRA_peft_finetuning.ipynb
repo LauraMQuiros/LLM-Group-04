{
 "cells": [
  {
   "cell_type": "code",
   "execution_count": 1,
   "id": "initial_id",
   "metadata": {
    "tags": []
   },
   "outputs": [],
   "source": [
    "import peft\n",
    "import os\n",
    "import sys\n",
    "from peft import get_peft_model, LoraConfig, PeftModel, PeftConfig\n",
    "import torch\n",
    "import pandas as pd\n",
    "import matplotlib.pyplot as plt\n",
    "import pickle\n",
    "from transformers import AutoModelForCausalLM, DataCollatorForLanguageModeling, Trainer, TrainingArguments, GPT2Tokenizer, TrainerCallback, EarlyStoppingCallback\n",
    "current_dir = os.getcwd()\n",
    "# Add the project root to sys.path (assuming src is in the root directory)\n",
    "project_root = os.path.abspath(os.path.join(current_dir, os.pardir, os.pardir))\n",
    "sys.path.append(project_root)\n",
    "from src.data_processing.Formality_Transfer_Dataset import FormalityTransferDataset\n"
   ]
  },
  {
   "cell_type": "code",
   "execution_count": null,
   "id": "d5aa626e7eb23915",
   "metadata": {},
   "outputs": [
    {
     "name": "stdout",
     "output_type": "stream",
     "text": [
      "/scratch/s4776380/LLM/data/processed/test.pkl\n"
     ]
    }
   ],
   "source": [
    "# paths\n",
    "test_path = os.path.join(project_root, 'data/processed/test.pkl')\n",
    "train_path = os.path.join(project_root, 'data/processed/train.pkl')\n",
    "tune_path = os.path.join(project_root, 'data/processed/tune.pkl')\n",
    "tokeniser_path = os.path.join(project_root, 'src/models/tokenizer/tokenizer.pkl')\n",
    "sys.path.append(os.path.join(project_root, 'src/data_processing'))\n",
    "print(test_path)"
   ]
  },
  {
   "cell_type": "code",
   "execution_count": null,
   "id": "b210f356bad66a32",
   "metadata": {},
   "outputs": [
    {
     "name": "stdout",
     "output_type": "stream",
     "text": [
      "50261\n"
     ]
    }
   ],
   "source": [
    "# Load datasets\n",
    "with open(test_path, 'rb') as f:\n",
    "    test : FormalityTransferDataset = pickle.load(f)\n",
    "with open(train_path, 'rb') as f:\n",
    "    train : FormalityTransferDataset = pickle.load(f)\n",
    "with open(tune_path, 'rb') as f:\n",
    "    tune : FormalityTransferDataset = pickle.load(f)\n",
    "with open(tokeniser_path, 'rb') as f:\n",
    "    tokenizer : GPT2Tokenizer = pickle.load(f)\n",
    "    print(len(tokenizer))"
   ]
  },
  {
   "cell_type": "code",
   "execution_count": 4,
   "id": "d4e620c9d1e96e6c",
   "metadata": {},
   "outputs": [
    {
     "data": {
      "text/plain": [
       "Embedding(50261, 1024)"
      ]
     },
     "execution_count": 4,
     "metadata": {},
     "output_type": "execute_result"
    }
   ],
   "source": [
    "model = AutoModelForCausalLM.from_pretrained('gpt2-medium', device_map=\"auto\")\n",
    "model.resize_token_embeddings(len(tokenizer), mean_resizing=False)"
   ]
  },
  {
   "cell_type": "code",
   "execution_count": 5,
   "id": "f33a287ae41822fb",
   "metadata": {},
   "outputs": [],
   "source": [
    "# Define LoRA Config\n",
    "lora_config = LoraConfig(\n",
    "    r=8,\n",
    "    lora_alpha=16,\n",
    "    target_modules=[\"attn.c_attn\", \"attn.c_proj\", \"mlp.c_fc\", \"mlp.c_proj\"],\n",
    "    lora_dropout=0.05,\n",
    "    bias=\"all\",\n",
    "    task_type=\"CAUSAL_LM\"\n",
    ")"
   ]
  },
  {
   "cell_type": "code",
   "execution_count": 6,
   "id": "5f0234a92895ccf9",
   "metadata": {},
   "outputs": [
    {
     "name": "stderr",
     "output_type": "stream",
     "text": [
      "/home1/s4776380/.local/lib/python3.10/site-packages/peft/tuners/lora/layer.py:1198: UserWarning: fan_in_fan_out is set to False but the target module is `Conv1D`. Setting fan_in_fan_out to True.\n",
      "  warnings.warn(\n"
     ]
    },
    {
     "name": "stdout",
     "output_type": "stream",
     "text": [
      "trainable params: 3,417,088 || all params: 357,972,992 || trainable%: 0.9546\n"
     ]
    }
   ],
   "source": [
    "# Add LoRA adaptor\n",
    "model = get_peft_model(model, lora_config)\n",
    "model.resize_token_embeddings(len(tokenizer))\n",
    "model.print_trainable_parameters()\n",
    "model.to('cpu') # if GPU is available later on, change to 'cuda'\n",
    "\n",
    "# Data collator\n",
    "data_collator = DataCollatorForLanguageModeling(\n",
    "    tokenizer,\n",
    "    mlm=False,\n",
    "    #pad_to_multiple_of=8\n",
    ")"
   ]
  },
  {
   "cell_type": "code",
   "execution_count": 7,
   "id": "eff371267af60e22",
   "metadata": {},
   "outputs": [],
   "source": [
    "# Initialize lists to store loss values\n",
    "training_loss = []\n",
    "validation_loss = []\n",
    "\n",
    "# Define the EarlyStoppingCallback with patience and the metric to monitor\n",
    "early_stopping_callback = EarlyStoppingCallback(\n",
    "    early_stopping_patience=3,   # Number of evaluations with no improvement\n",
    "    early_stopping_threshold=0.01  # Minimum change to qualify as an improvement\n",
    ")\n",
    "\n",
    "# Define a custom callback to track losses\n",
    "class LossLoggerCallback(TrainerCallback):\n",
    "    def on_log(self, args, state, control, logs=None, **kwargs):\n",
    "        if logs is not None:\n",
    "            if 'loss' in logs:\n",
    "                training_loss.append(logs['loss'])\n",
    "            if 'eval_loss' in logs:\n",
    "                validation_loss.append(logs['eval_loss'])"
   ]
  },
  {
   "cell_type": "code",
   "execution_count": null,
   "id": "9d64d7bce8aa1775",
   "metadata": {},
   "outputs": [],
   "source": [
    "training_args = TrainingArguments(\n",
    "    output_dir=\"logs\",\n",
    "    per_device_train_batch_size=4,  \n",
    "    learning_rate=1e-5,\n",
    "    num_train_epochs=4,\n",
    "    logging_dir=\"logs/training\",\n",
    "    gradient_accumulation_steps=8,  \n",
    "    logging_steps=500,\n",
    "    save_total_limit=2, \n",
    "    save_strategy=\"epoch\",\n",
    "    save_steps=10_000,\n",
    "    eval_strategy=\"epoch\",                # Save at each epoch (or use 'steps')\n",
    "    load_best_model_at_end=True,          # Required for early stopping\n",
    "    metric_for_best_model=\"eval_loss\",    # Metric to monitor (use your chosen metric here)\n",
    "    greater_is_better=False,              # For loss, lower is better (set to True for accuracy, etc.)\n",
    "    eval_steps=500,\n",
    "    report_to=\"tensorboard\",\n",
    "    fp16=False  # Keep as False on MPS\n",
    ")"
   ]
  },
  {
   "cell_type": "code",
   "execution_count": null,
   "id": "9b5e420018b63e69",
   "metadata": {},
   "outputs": [],
   "source": [
    "# Create Trainer instance\n",
    "trainer = Trainer(\n",
    "    model=model,\n",
    "    args=training_args,\n",
    "    callbacks=[LossLoggerCallback, early_stopping_callback],\n",
    "    data_collator=data_collator,\n",
    "    train_dataset=train,\n",
    "    eval_dataset=tune\n",
    ")\n",
    "\n",
    "# Disable cache for training\n",
    "model.config.use_cache = False"
   ]
  },
  {
   "cell_type": "code",
   "execution_count": null,
   "id": "d0e71790b49fad7",
   "metadata": {},
   "outputs": [
    {
     "name": "stderr",
     "output_type": "stream",
     "text": [
      "/scratch/s4776380/LLM/src/data_processing/Formality_Transfer_Dataset.py:15: UserWarning: To copy construct from a tensor, it is recommended to use sourceTensor.clone().detach() or sourceTensor.clone().detach().requires_grad_(True), rather than torch.tensor(sourceTensor).\n",
      "  'input_ids': torch.tensor(self.input_ids[idx], dtype=torch.long),\n",
      "/scratch/s4776380/LLM/src/data_processing/Formality_Transfer_Dataset.py:16: UserWarning: To copy construct from a tensor, it is recommended to use sourceTensor.clone().detach() or sourceTensor.clone().detach().requires_grad_(True), rather than torch.tensor(sourceTensor).\n",
      "  'attention_mask': torch.tensor(self.attention_mask[idx], dtype=torch.long)\n"
     ]
    },
    {
     "data": {
      "text/html": [
       "\n",
       "    <div>\n",
       "      \n",
       "      <progress value='1332' max='3110' style='width:300px; height:20px; vertical-align: middle;'></progress>\n",
       "      [1332/3110 3:58:33 < 5:18:54, 0.09 it/s, Epoch 2.14/5]\n",
       "    </div>\n",
       "    <table border=\"1\" class=\"dataframe\">\n",
       "  <thead>\n",
       " <tr style=\"text-align: left;\">\n",
       "      <th>Epoch</th>\n",
       "      <th>Training Loss</th>\n",
       "      <th>Validation Loss</th>\n",
       "    </tr>\n",
       "  </thead>\n",
       "  <tbody>\n",
       "    <tr>\n",
       "      <td>0</td>\n",
       "      <td>107.036300</td>\n",
       "      <td>3.372763</td>\n",
       "    </tr>\n",
       "    <tr>\n",
       "      <td>1</td>\n",
       "      <td>26.720300</td>\n",
       "      <td>3.103028</td>\n",
       "    </tr>\n",
       "  </tbody>\n",
       "</table><p>"
      ],
      "text/plain": [
       "<IPython.core.display.HTML object>"
      ]
     },
     "metadata": {},
     "output_type": "display_data"
    },
    {
     "name": "stderr",
     "output_type": "stream",
     "text": [
      "/home1/s4776380/.local/lib/python3.10/site-packages/peft/utils/save_and_load.py:258: UserWarning: Setting `save_embedding_layers` to `True` as the embedding layer has been resized during finetuning.\n",
      "  warnings.warn(\n",
      "/scratch/s4776380/LLM/src/data_processing/Formality_Transfer_Dataset.py:15: UserWarning: To copy construct from a tensor, it is recommended to use sourceTensor.clone().detach() or sourceTensor.clone().detach().requires_grad_(True), rather than torch.tensor(sourceTensor).\n",
      "  'input_ids': torch.tensor(self.input_ids[idx], dtype=torch.long),\n",
      "/scratch/s4776380/LLM/src/data_processing/Formality_Transfer_Dataset.py:16: UserWarning: To copy construct from a tensor, it is recommended to use sourceTensor.clone().detach() or sourceTensor.clone().detach().requires_grad_(True), rather than torch.tensor(sourceTensor).\n",
      "  'attention_mask': torch.tensor(self.attention_mask[idx], dtype=torch.long)\n",
      "/home1/s4776380/.local/lib/python3.10/site-packages/peft/utils/save_and_load.py:258: UserWarning: Setting `save_embedding_layers` to `True` as the embedding layer has been resized during finetuning.\n",
      "  warnings.warn(\n",
      "/scratch/s4776380/LLM/src/data_processing/Formality_Transfer_Dataset.py:15: UserWarning: To copy construct from a tensor, it is recommended to use sourceTensor.clone().detach() or sourceTensor.clone().detach().requires_grad_(True), rather than torch.tensor(sourceTensor).\n",
      "  'input_ids': torch.tensor(self.input_ids[idx], dtype=torch.long),\n",
      "/scratch/s4776380/LLM/src/data_processing/Formality_Transfer_Dataset.py:16: UserWarning: To copy construct from a tensor, it is recommended to use sourceTensor.clone().detach() or sourceTensor.clone().detach().requires_grad_(True), rather than torch.tensor(sourceTensor).\n",
      "  'attention_mask': torch.tensor(self.attention_mask[idx], dtype=torch.long)\n"
     ]
    }
   ],
   "source": [
    "# Train the model\n",
    "trainer.train()"
   ]
  },
  {
   "cell_type": "code",
   "execution_count": null,
   "id": "64a040d8-4920-4a39-b470-e50827a4e17f",
   "metadata": {},
   "outputs": [],
   "source": [
    "# Save our LoRA model & tokenizer results\n",
    "lora_model_dir = \"src/models/lora_trained\"\n",
    "base_model_dir = \"src/models/base_model\"\n",
    "tokenizer_dir = \"src/models/trained_tokenizer\"\n",
    "\n",
    "trainer.model.save_pretrained(lora_model_dir)\n",
    "tokenizer.save_pretrained(tokenizer_dir)\n",
    "trainer.model.base_model.save_pretrained(base_model_dir)\n",
    "\n",
    "print(\"Training complete. Model saved.\")\n",
    "\n",
    "#Save loss data\n",
    "loss_data = pd.DataFrame({\n",
    "    'training_loss': training_loss,\n",
    "    'validation_loss': validation_loss[:len(training_loss)]  # Ensure same length\n",
    "})\n",
    "loss_data.to_csv('loss_data_2.csv', index=False)\n",
    "\n",
    "# Plot the training and validation loss\n",
    "plt.figure(figsize=(10, 5))\n",
    "plt.plot(training_loss, label='Training Loss')\n",
    "plt.plot(validation_loss, label='Validation Loss')\n",
    "plt.xlabel('Steps')\n",
    "plt.ylabel('Loss')\n",
    "plt.legend()\n",
    "plt.title('Training and Validation Loss')\n",
    "plt.savefig('loss_plot_2.png')\n",
    "plt.show()"
   ]
  }
 ],
 "metadata": {
  "kernelspec": {
   "display_name": "Python 3 (ipykernel)",
   "language": "python",
   "name": "python3"
  },
  "language_info": {
   "codemirror_mode": {
    "name": "ipython",
    "version": 3
   },
   "file_extension": ".py",
   "mimetype": "text/x-python",
   "name": "python",
   "nbconvert_exporter": "python",
   "pygments_lexer": "ipython3",
   "version": "3.10.4"
  }
 },
 "nbformat": 4,
 "nbformat_minor": 5
}
