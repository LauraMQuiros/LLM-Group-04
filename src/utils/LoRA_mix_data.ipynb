{
 "cells": [
  {
   "cell_type": "code",
   "execution_count": null,
   "id": "initial_id",
   "metadata": {
    "collapsed": true
   },
   "outputs": [],
   "source": [
    "import peft\n",
    "import os\n",
    "import sys\n",
    "from peft import get_peft_model, LoraConfig, PeftModel, PeftConfig\n",
    "import torch\n",
    "import pandas as pd\n",
    "import matplotlib.pyplot as plt\n",
    "import pickle\n",
    "from transformers import AutoModelForCausalLM, DataCollatorForLanguageModeling, Trainer, TrainingArguments, GPT2Tokenizer, TrainerCallback\n",
    "current_dir = os.getcwd()\n",
    "# Add the project root to sys.path (assuming src is in the root directory)\n",
    "project_root = os.path.abspath(os.path.join(current_dir, os.pardir, os.pardir))\n",
    "sys.path.append(project_root)\n",
    "from src.data_processing.Formality_Transfer_Dataset import FormalityTransferDataset\n"
   ]
  },
  {
   "metadata": {},
   "cell_type": "code",
   "outputs": [],
   "execution_count": null,
   "source": [
    "# paths\n",
    "test_path = os.path.join(project_root, 'data/processed/test.pkl')\n",
    "train_path = os.path.join(project_root, 'data/processed/train.pkl')\n",
    "tune_path = os.path.join(project_root, 'data/processed/tune.pkl')\n",
    "tokeniser_path = os.path.join(project_root, 'src/models/tokenizer/tokenizer.pkl')\n",
    "sys.path.append(os.path.join(project_root, 'src/data_processing'))\n",
    "print(test_path)"
   ],
   "id": "d5aa626e7eb23915"
  },
  {
   "metadata": {},
   "cell_type": "code",
   "outputs": [],
   "execution_count": null,
   "source": [
    "# Load datasets\n",
    "with open(test_path, 'rb') as f:\n",
    "    test : FormalityTransferDataset = pickle.load(f)\n",
    "with open(train_path, 'rb') as f:\n",
    "    train : FormalityTransferDataset = pickle.load(f)\n",
    "with open(tune_path, 'rb') as f:\n",
    "    tune : FormalityTransferDataset = pickle.load(f)\n",
    "with open(tokeniser_path, 'rb') as f:\n",
    "    tokenizer : GPT2Tokenizer = pickle.load(f)\n",
    "    print(len(tokenizer))"
   ],
   "id": "b210f356bad66a32"
  },
  {
   "metadata": {},
   "cell_type": "code",
   "outputs": [],
   "execution_count": null,
   "source": [
    "model = AutoModelForCausalLM.from_pretrained('gpt2-medium', device_map=\"auto\")\n",
    "model.resize_token_embeddings(len(tokenizer))"
   ],
   "id": "d4e620c9d1e96e6c"
  },
  {
   "metadata": {},
   "cell_type": "code",
   "outputs": [],
   "execution_count": null,
   "source": [
    "# Define LoRA Config\n",
    "lora_config = LoraConfig(\n",
    "    r=8,\n",
    "    lora_alpha=16,\n",
    "    target_modules=[\"attn.c_attn\", \"attn.c_proj\", \"mlp.c_fc\", \"mlp.c_proj\"],\n",
    "    lora_dropout=0.05,\n",
    "    bias=\"lora_only\",\n",
    "    task_type=\"CAUSAL_LM\"\n",
    ")"
   ],
   "id": "f33a287ae41822fb"
  },
  {
   "metadata": {},
   "cell_type": "code",
   "outputs": [],
   "execution_count": null,
   "source": [
    "# Add LoRA adaptor\n",
    "model = get_peft_model(model, lora_config)\n",
    "model.print_trainable_parameters()\n",
    "model.to('cpu') # if GPU is available later on, change to 'cuda'\n",
    "\n",
    "# Data collator\n",
    "data_collator = DataCollatorForLanguageModeling(\n",
    "    tokenizer,\n",
    "    mlm=False,\n",
    "    #pad_to_multiple_of=8\n",
    ")"
   ],
   "id": "5f0234a92895ccf9"
  },
  {
   "metadata": {},
   "cell_type": "code",
   "outputs": [],
   "execution_count": null,
   "source": [
    "# Initialize lists to store loss values\n",
    "training_loss = []\n",
    "validation_loss = []\n",
    "\n",
    "# Define a custom callback to track losses\n",
    "class LossLoggerCallback(TrainerCallback):\n",
    "    def on_log(self, args, state, control, logs=None, **kwargs):\n",
    "        if logs is not None:\n",
    "            if 'loss' in logs:\n",
    "                training_loss.append(logs['loss'])\n",
    "            if 'eval_loss' in logs:\n",
    "                validation_loss.append(logs['eval_loss'])"
   ],
   "id": "eff371267af60e22"
  },
  {
   "metadata": {},
   "cell_type": "code",
   "outputs": [],
   "execution_count": null,
   "source": [
    "training_args = TrainingArguments(\n",
    "    output_dir=\"logs\",\n",
    "    per_device_train_batch_size=6,  # Lowered for memory\n",
    "    per_device_eval_batch_size=5,   # Lowered for memory\n",
    "    learning_rate=1e-5,\n",
    "    num_train_epochs=6,\n",
    "    logging_dir=\"logs/training\",\n",
    "    gradient_accumulation_steps=8,  # Adjust based on your needs\n",
    "    logging_steps=500,\n",
    "    save_strategy=\"epoch\",\n",
    "    save_steps=10_000,\n",
    "    eval_strategy=\"steps\",\n",
    "    eval_steps=500,\n",
    "    report_to=\"tensorboard\",\n",
    "    fp16=False  # Keep as False on MPS\n",
    ")"
   ],
   "id": "9d64d7bce8aa1775"
  },
  {
   "metadata": {},
   "cell_type": "code",
   "outputs": [],
   "execution_count": null,
   "source": [
    "# Create Trainer instance\n",
    "trainer = Trainer(\n",
    "    model=model,\n",
    "    args=training_args,\n",
    "    callbacks=[LossLoggerCallback],\n",
    "    data_collator=data_collator,\n",
    "    train_dataset=train,\n",
    "    eval_dataset=tune\n",
    ")\n",
    "\n",
    "# Disable cache for training\n",
    "model.config.use_cache = False"
   ],
   "id": "9b5e420018b63e69"
  },
  {
   "metadata": {},
   "cell_type": "code",
   "outputs": [],
   "execution_count": null,
   "source": [
    "# Train the model\n",
    "trainer.train()"
   ],
   "id": "b65d0149a226e2c7"
  },
  {
   "metadata": {},
   "cell_type": "code",
   "outputs": [],
   "execution_count": null,
   "source": [
    "# Save our LoRA model & tokenizer results\n",
    "lora_model_dir = \"src/models/lora_trained\"\n",
    "base_model_dir = \"src/models/base_model\"\n",
    "tokenizer_dir = \"src/models/trained_tokenizer\"\n",
    "\n",
    "trainer.model.save_pretrained(lora_model_dir)\n",
    "tokenizer.save_pretrained(tokenizer_dir)\n",
    "trainer.model.base_model.save_pretrained(base_model_dir)\n",
    "\n",
    "print(\"Training complete. Model saved.\")"
   ],
   "id": "d0e71790b49fad7"
  },
  {
   "metadata": {},
   "cell_type": "code",
   "outputs": [],
   "execution_count": null,
   "source": [
    "#Save loss data\n",
    "loss_data = pd.DataFrame({\n",
    "    'training_loss': training_loss,\n",
    "    'validation_loss': validation_loss[:len(training_loss)]  # Ensure same length\n",
    "})\n",
    "loss_data.to_csv('loss_data_2.csv', index=False)\n",
    "\n",
    "# Plot the training and validation loss\n",
    "plt.figure(figsize=(10, 5))\n",
    "plt.plot(training_loss, label='Training Loss')\n",
    "plt.plot(validation_loss, label='Validation Loss')\n",
    "plt.xlabel('Steps')\n",
    "plt.ylabel('Loss')\n",
    "plt.legend()\n",
    "plt.title('Training and Validation Loss')\n",
    "plt.savefig('loss_plot_2.png')\n",
    "plt.show()"
   ],
   "id": "63bed7c69c8ff2a5"
  }
 ],
 "metadata": {
  "kernelspec": {
   "display_name": "Python 3",
   "language": "python",
   "name": "python3"
  },
  "language_info": {
   "codemirror_mode": {
    "name": "ipython",
    "version": 2
   },
   "file_extension": ".py",
   "mimetype": "text/x-python",
   "name": "python",
   "nbconvert_exporter": "python",
   "pygments_lexer": "ipython2",
   "version": "2.7.6"
  }
 },
 "nbformat": 4,
 "nbformat_minor": 5
}
